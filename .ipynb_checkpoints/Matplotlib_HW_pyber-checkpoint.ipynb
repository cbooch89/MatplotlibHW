{
 "cells": [
  {
   "cell_type": "code",
   "execution_count": 14,
   "metadata": {
    "scrolled": true
   },
   "outputs": [
    {
     "data": {
      "text/html": [
       "<div>\n",
       "<style scoped>\n",
       "    .dataframe tbody tr th:only-of-type {\n",
       "        vertical-align: middle;\n",
       "    }\n",
       "\n",
       "    .dataframe tbody tr th {\n",
       "        vertical-align: top;\n",
       "    }\n",
       "\n",
       "    .dataframe thead th {\n",
       "        text-align: right;\n",
       "    }\n",
       "</style>\n",
       "<table border=\"1\" class=\"dataframe\">\n",
       "  <thead>\n",
       "    <tr style=\"text-align: right;\">\n",
       "      <th></th>\n",
       "      <th>city</th>\n",
       "      <th>driver_count</th>\n",
       "      <th>type</th>\n",
       "      <th>date</th>\n",
       "      <th>fare</th>\n",
       "      <th>ride_id</th>\n",
       "    </tr>\n",
       "  </thead>\n",
       "  <tbody>\n",
       "    <tr>\n",
       "      <th>1523</th>\n",
       "      <td>Amandaburgh</td>\n",
       "      <td>12</td>\n",
       "      <td>Urban</td>\n",
       "      <td>1/11/2018 2:22</td>\n",
       "      <td>29.24</td>\n",
       "      <td>7.279900e+12</td>\n",
       "    </tr>\n",
       "    <tr>\n",
       "      <th>1522</th>\n",
       "      <td>Amandaburgh</td>\n",
       "      <td>12</td>\n",
       "      <td>Urban</td>\n",
       "      <td>2/10/2018 20:42</td>\n",
       "      <td>36.17</td>\n",
       "      <td>6.455620e+12</td>\n",
       "    </tr>\n",
       "    <tr>\n",
       "      <th>1529</th>\n",
       "      <td>Amandaburgh</td>\n",
       "      <td>12</td>\n",
       "      <td>Urban</td>\n",
       "      <td>3/13/2018 12:52</td>\n",
       "      <td>13.88</td>\n",
       "      <td>6.222130e+12</td>\n",
       "    </tr>\n",
       "    <tr>\n",
       "      <th>1524</th>\n",
       "      <td>Amandaburgh</td>\n",
       "      <td>12</td>\n",
       "      <td>Urban</td>\n",
       "      <td>1/21/2018 4:12</td>\n",
       "      <td>9.26</td>\n",
       "      <td>5.528430e+12</td>\n",
       "    </tr>\n",
       "    <tr>\n",
       "      <th>1525</th>\n",
       "      <td>Amandaburgh</td>\n",
       "      <td>12</td>\n",
       "      <td>Urban</td>\n",
       "      <td>4/19/2018 16:30</td>\n",
       "      <td>6.27</td>\n",
       "      <td>4.400630e+12</td>\n",
       "    </tr>\n",
       "  </tbody>\n",
       "</table>\n",
       "</div>"
      ],
      "text/plain": [
       "             city  driver_count   type             date   fare       ride_id\n",
       "1523  Amandaburgh            12  Urban   1/11/2018 2:22  29.24  7.279900e+12\n",
       "1522  Amandaburgh            12  Urban  2/10/2018 20:42  36.17  6.455620e+12\n",
       "1529  Amandaburgh            12  Urban  3/13/2018 12:52  13.88  6.222130e+12\n",
       "1524  Amandaburgh            12  Urban   1/21/2018 4:12   9.26  5.528430e+12\n",
       "1525  Amandaburgh            12  Urban  4/19/2018 16:30   6.27  4.400630e+12"
      ]
     },
     "execution_count": 14,
     "metadata": {},
     "output_type": "execute_result"
    }
   ],
   "source": [
    "%matplotlib inline\n",
    "# Dependencies and Setup\n",
    "import matplotlib.pyplot as plt\n",
    "import pandas as pd\n",
    "import numpy as np\n",
    "\n",
    "# File to Load (Remember to change these)\n",
    "city_data = \"city_data.csv\"\n",
    "ride_data = \"ride_data.csv\"\n",
    "\n",
    "#Read data into DF\n",
    "city = pd.read_csv(\"city_data.csv\")\n",
    "ride = pd.read_csv(\"ride_data.csv\")\n",
    "city= city.drop_duplicates(\"city\", keep = \"first\")\n",
    "\n",
    "# #merge\n",
    "city_rides = city.merge(ride, on=\"city\", how=\"left\")\n",
    "city_rides = city_rides.sort_values(\"city\")\n",
    "city_rides.head()"
   ]
  },
  {
   "cell_type": "code",
   "execution_count": 50,
   "metadata": {},
   "outputs": [
    {
     "data": {
      "text/html": [
       "<div>\n",
       "<style scoped>\n",
       "    .dataframe tbody tr th:only-of-type {\n",
       "        vertical-align: middle;\n",
       "    }\n",
       "\n",
       "    .dataframe tbody tr th {\n",
       "        vertical-align: top;\n",
       "    }\n",
       "\n",
       "    .dataframe thead th {\n",
       "        text-align: right;\n",
       "    }\n",
       "</style>\n",
       "<table border=\"1\" class=\"dataframe\">\n",
       "  <thead>\n",
       "    <tr style=\"text-align: right;\">\n",
       "      <th></th>\n",
       "      <th>city</th>\n",
       "      <th>driver_count</th>\n",
       "      <th>type</th>\n",
       "      <th>date</th>\n",
       "      <th>fare</th>\n",
       "      <th>ride_id</th>\n",
       "    </tr>\n",
       "  </thead>\n",
       "  <tbody>\n",
       "    <tr>\n",
       "      <th>1523</th>\n",
       "      <td>Amandaburgh</td>\n",
       "      <td>12</td>\n",
       "      <td>Urban</td>\n",
       "      <td>1/11/2018 2:22</td>\n",
       "      <td>29.24</td>\n",
       "      <td>7.279900e+12</td>\n",
       "    </tr>\n",
       "    <tr>\n",
       "      <th>1522</th>\n",
       "      <td>Amandaburgh</td>\n",
       "      <td>12</td>\n",
       "      <td>Urban</td>\n",
       "      <td>2/10/2018 20:42</td>\n",
       "      <td>36.17</td>\n",
       "      <td>6.455620e+12</td>\n",
       "    </tr>\n",
       "    <tr>\n",
       "      <th>1529</th>\n",
       "      <td>Amandaburgh</td>\n",
       "      <td>12</td>\n",
       "      <td>Urban</td>\n",
       "      <td>3/13/2018 12:52</td>\n",
       "      <td>13.88</td>\n",
       "      <td>6.222130e+12</td>\n",
       "    </tr>\n",
       "    <tr>\n",
       "      <th>1524</th>\n",
       "      <td>Amandaburgh</td>\n",
       "      <td>12</td>\n",
       "      <td>Urban</td>\n",
       "      <td>1/21/2018 4:12</td>\n",
       "      <td>9.26</td>\n",
       "      <td>5.528430e+12</td>\n",
       "    </tr>\n",
       "    <tr>\n",
       "      <th>1525</th>\n",
       "      <td>Amandaburgh</td>\n",
       "      <td>12</td>\n",
       "      <td>Urban</td>\n",
       "      <td>4/19/2018 16:30</td>\n",
       "      <td>6.27</td>\n",
       "      <td>4.400630e+12</td>\n",
       "    </tr>\n",
       "  </tbody>\n",
       "</table>\n",
       "</div>"
      ],
      "text/plain": [
       "             city  driver_count   type             date   fare       ride_id\n",
       "1523  Amandaburgh            12  Urban   1/11/2018 2:22  29.24  7.279900e+12\n",
       "1522  Amandaburgh            12  Urban  2/10/2018 20:42  36.17  6.455620e+12\n",
       "1529  Amandaburgh            12  Urban  3/13/2018 12:52  13.88  6.222130e+12\n",
       "1524  Amandaburgh            12  Urban   1/21/2018 4:12   9.26  5.528430e+12\n",
       "1525  Amandaburgh            12  Urban  4/19/2018 16:30   6.27  4.400630e+12"
      ]
     },
     "execution_count": 50,
     "metadata": {},
     "output_type": "execute_result"
    }
   ],
   "source": [
    "#urban info\n",
    "\n",
    "urban_city = city_rides.loc[city_rides[\"type\"]==\"Urban\"]\n",
    "urban_city.sort_values(\"city\")\n",
    "\n",
    "#Calc Driver Count Per City, Urban\n",
    "urban_drivers = urban_city[\"driver_count\"].tolist()\n",
    "urban_city.head()\n"
   ]
  },
  {
   "cell_type": "code",
   "execution_count": 56,
   "metadata": {},
   "outputs": [],
   "source": [
    "#group urban city together\n",
    "urban_group = urban_city.groupby(\"city\")\n",
    "\n",
    "# number of Rides and Avg Fare by urban cities\n",
    "urban_rides = urban_group[\"type\"].count()\n",
    "    #print (urban_rides)\n",
    "\n",
    "urban_fare = round(urban_group[\"fare\"].mean(),2)\n",
    "    #urban_fare"
   ]
  },
  {
   "cell_type": "code",
   "execution_count": 57,
   "metadata": {
    "scrolled": true
   },
   "outputs": [
    {
     "data": {
      "text/html": [
       "<div>\n",
       "<style scoped>\n",
       "    .dataframe tbody tr th:only-of-type {\n",
       "        vertical-align: middle;\n",
       "    }\n",
       "\n",
       "    .dataframe tbody tr th {\n",
       "        vertical-align: top;\n",
       "    }\n",
       "\n",
       "    .dataframe thead th {\n",
       "        text-align: right;\n",
       "    }\n",
       "</style>\n",
       "<table border=\"1\" class=\"dataframe\">\n",
       "  <thead>\n",
       "    <tr style=\"text-align: right;\">\n",
       "      <th></th>\n",
       "      <th>city</th>\n",
       "      <th>driver_count</th>\n",
       "      <th>type</th>\n",
       "      <th>date</th>\n",
       "      <th>fare</th>\n",
       "      <th>ride_id</th>\n",
       "    </tr>\n",
       "  </thead>\n",
       "  <tbody>\n",
       "    <tr>\n",
       "      <th>2348</th>\n",
       "      <td>Bradshawfurt</td>\n",
       "      <td>7</td>\n",
       "      <td>Rural</td>\n",
       "      <td>4/8/2018 13:46</td>\n",
       "      <td>55.19</td>\n",
       "      <td>1.742950e+12</td>\n",
       "    </tr>\n",
       "    <tr>\n",
       "      <th>2349</th>\n",
       "      <td>Bradshawfurt</td>\n",
       "      <td>7</td>\n",
       "      <td>Rural</td>\n",
       "      <td>4/7/2018 21:12</td>\n",
       "      <td>49.70</td>\n",
       "      <td>5.088810e+12</td>\n",
       "    </tr>\n",
       "    <tr>\n",
       "      <th>2346</th>\n",
       "      <td>Bradshawfurt</td>\n",
       "      <td>7</td>\n",
       "      <td>Rural</td>\n",
       "      <td>3/24/2018 7:34</td>\n",
       "      <td>19.89</td>\n",
       "      <td>7.867400e+12</td>\n",
       "    </tr>\n",
       "    <tr>\n",
       "      <th>2344</th>\n",
       "      <td>Bradshawfurt</td>\n",
       "      <td>7</td>\n",
       "      <td>Rural</td>\n",
       "      <td>3/6/2018 21:44</td>\n",
       "      <td>19.74</td>\n",
       "      <td>6.080370e+12</td>\n",
       "    </tr>\n",
       "    <tr>\n",
       "      <th>2347</th>\n",
       "      <td>Bradshawfurt</td>\n",
       "      <td>7</td>\n",
       "      <td>Rural</td>\n",
       "      <td>2/18/2018 22:21</td>\n",
       "      <td>34.32</td>\n",
       "      <td>8.882000e+12</td>\n",
       "    </tr>\n",
       "  </tbody>\n",
       "</table>\n",
       "</div>"
      ],
      "text/plain": [
       "              city  driver_count   type             date   fare       ride_id\n",
       "2348  Bradshawfurt             7  Rural   4/8/2018 13:46  55.19  1.742950e+12\n",
       "2349  Bradshawfurt             7  Rural   4/7/2018 21:12  49.70  5.088810e+12\n",
       "2346  Bradshawfurt             7  Rural   3/24/2018 7:34  19.89  7.867400e+12\n",
       "2344  Bradshawfurt             7  Rural   3/6/2018 21:44  19.74  6.080370e+12\n",
       "2347  Bradshawfurt             7  Rural  2/18/2018 22:21  34.32  8.882000e+12"
      ]
     },
     "execution_count": 57,
     "metadata": {},
     "output_type": "execute_result"
    }
   ],
   "source": [
    "#Rural info\n",
    "rural_city = city_rides.loc[city_rides[\"type\"]==\"Rural\"]\n",
    "rural_city.sort_values(\"city\")\n",
    "\n",
    "#Calc Driver Count in Rural\n",
    "rural_drivers = rural_city[\"driver_count\"].tolist()\n",
    "rural_city.head()"
   ]
  },
  {
   "cell_type": "code",
   "execution_count": 60,
   "metadata": {},
   "outputs": [],
   "source": [
    "#group by rural\n",
    "rural_group=rural_city.groupby(\"city\")\n",
    "\n",
    "# numb of rides N avg fare in rural areas\n",
    "rural_rides = rural_group[\"type\"].count()\n",
    "    #rural_rides\n",
    "\n",
    "rural_fare = round(rural_group[\"fare\"].mean(),2)\n",
    "    #rural_fare"
   ]
  },
  {
   "cell_type": "code",
   "execution_count": 61,
   "metadata": {},
   "outputs": [
    {
     "data": {
      "text/html": [
       "<div>\n",
       "<style scoped>\n",
       "    .dataframe tbody tr th:only-of-type {\n",
       "        vertical-align: middle;\n",
       "    }\n",
       "\n",
       "    .dataframe tbody tr th {\n",
       "        vertical-align: top;\n",
       "    }\n",
       "\n",
       "    .dataframe thead th {\n",
       "        text-align: right;\n",
       "    }\n",
       "</style>\n",
       "<table border=\"1\" class=\"dataframe\">\n",
       "  <thead>\n",
       "    <tr style=\"text-align: right;\">\n",
       "      <th></th>\n",
       "      <th>city</th>\n",
       "      <th>driver_count</th>\n",
       "      <th>type</th>\n",
       "      <th>date</th>\n",
       "      <th>fare</th>\n",
       "      <th>ride_id</th>\n",
       "    </tr>\n",
       "  </thead>\n",
       "  <tbody>\n",
       "    <tr>\n",
       "      <th>2050</th>\n",
       "      <td>Barronchester</td>\n",
       "      <td>11</td>\n",
       "      <td>Suburban</td>\n",
       "      <td>4/28/2018 11:49</td>\n",
       "      <td>39.19</td>\n",
       "      <td>9.917740e+12</td>\n",
       "    </tr>\n",
       "    <tr>\n",
       "      <th>2047</th>\n",
       "      <td>Barronchester</td>\n",
       "      <td>11</td>\n",
       "      <td>Suburban</td>\n",
       "      <td>3/20/2018 18:52</td>\n",
       "      <td>35.09</td>\n",
       "      <td>4.842150e+12</td>\n",
       "    </tr>\n",
       "    <tr>\n",
       "      <th>2048</th>\n",
       "      <td>Barronchester</td>\n",
       "      <td>11</td>\n",
       "      <td>Suburban</td>\n",
       "      <td>1/9/2018 9:01</td>\n",
       "      <td>38.57</td>\n",
       "      <td>1.246870e+12</td>\n",
       "    </tr>\n",
       "    <tr>\n",
       "      <th>2046</th>\n",
       "      <td>Barronchester</td>\n",
       "      <td>11</td>\n",
       "      <td>Suburban</td>\n",
       "      <td>3/26/2018 18:27</td>\n",
       "      <td>30.32</td>\n",
       "      <td>1.775560e+12</td>\n",
       "    </tr>\n",
       "    <tr>\n",
       "      <th>2045</th>\n",
       "      <td>Barronchester</td>\n",
       "      <td>11</td>\n",
       "      <td>Suburban</td>\n",
       "      <td>3/6/2018 6:36</td>\n",
       "      <td>46.07</td>\n",
       "      <td>4.553520e+12</td>\n",
       "    </tr>\n",
       "  </tbody>\n",
       "</table>\n",
       "</div>"
      ],
      "text/plain": [
       "               city  driver_count      type             date   fare  \\\n",
       "2050  Barronchester            11  Suburban  4/28/2018 11:49  39.19   \n",
       "2047  Barronchester            11  Suburban  3/20/2018 18:52  35.09   \n",
       "2048  Barronchester            11  Suburban    1/9/2018 9:01  38.57   \n",
       "2046  Barronchester            11  Suburban  3/26/2018 18:27  30.32   \n",
       "2045  Barronchester            11  Suburban    3/6/2018 6:36  46.07   \n",
       "\n",
       "           ride_id  \n",
       "2050  9.917740e+12  \n",
       "2047  4.842150e+12  \n",
       "2048  1.246870e+12  \n",
       "2046  1.775560e+12  \n",
       "2045  4.553520e+12  "
      ]
     },
     "execution_count": 61,
     "metadata": {},
     "output_type": "execute_result"
    }
   ],
   "source": [
    "#Suburban info\n",
    "suburban_city = city_rides.loc[city_rides[\"type\"]==\"Suburban\"]\n",
    "suburban_city.sort_values(\"city\")\n",
    "\n",
    "#Calc Driver Count in Suburban\n",
    "suburban_drivers= suburban_city[\"driver_count\"].tolist()\n",
    "suburban_city.head()"
   ]
  },
  {
   "cell_type": "code",
   "execution_count": 62,
   "metadata": {},
   "outputs": [],
   "source": [
    "# group suburban\n",
    "suburban_group = suburban_city.groupby(\"city\")\n",
    "\n",
    "# number of Rides and Avg Fare in suburan cities\n",
    "suburban_rides = suburban_group[\"type\"].count()\n",
    "    #suburban_rides\n",
    "\n",
    "suburban_fare = round(suburban_group[\"fare\"].mean(),2)\n",
    "    #suburban_fare"
   ]
  },
  {
   "cell_type": "markdown",
   "metadata": {},
   "source": [
    "## Bubble Plot of Ride Sharing Data"
   ]
  },
  {
   "cell_type": "code",
   "execution_count": 81,
   "metadata": {},
   "outputs": [
    {
     "data": {
      "image/png": "[encoded data removed]",
      "text/plain": [
       "<Figure size 720x576 with 1 Axes>"
      ]
     },
     "metadata": {
      "needs_background": "light"
     },
     "output_type": "display_data"
    }
   ],
   "source": [
    "fig = plt.figure(figsize=(10,8))\n",
    "plt.grid(True)\n",
    "\n",
    "# Obtain the x and y coordinates for each of the three city types\n",
    "#urban\n",
    "plot_urban = plt.scatter(x=urban_rides,y=urban_fare,marker=\"o\",\n",
    "                        color=\"gold\",s=90*urban_drivers,edgecolor='black', linewidths=1,alpha=0.8,label=\"Urban\")\n",
    "#rural\n",
    "plot_rural = plt.scatter(x=rural_rides,y=rural_fare,marker=\"o\",\n",
    "                        color=\"skyblue\",s=90*rural_drivers,edgecolor='black',linewidths=1,alpha=0.8,label=\"Rural\")\n",
    "#suburban\n",
    "plot_sub = plt.scatter(x=suburban_rides,y=suburban_fare,marker=\"o\",\n",
    "                      color=\"coral\",s=90*suburban_drivers,edgecolor='black',linewidths=1,alpha=0.8,label=\"Suburban\")\n",
    "\n",
    "#Create a legend\n",
    "lgnd = plt.legend(handles=[plot_urban,plot_rural,plot_sub],loc=\"best\")\n",
    "lgnd.legendHandles[0]._sizes = [90]\n",
    "lgnd.legendHandles[1]._sizes = [90]\n",
    "lgnd.legendHandles[2]._sizes = [90]\n",
    "\n",
    "# Incorporate a text label regarding circle size\n",
    "plt.text(42,30,'Note:\\nThe bubble size correlates with driver count per city.',fontsize=10)\n",
    "\n",
    "#limits\n",
    "plt.xlim(0,40)\n",
    "plt.ylim(0,50)\n",
    "\n",
    "#Labels\n",
    "plt.title(\"Pyber Ride Sharing Data (2016)\")\n",
    "plt.xlabel(\"Total Number Of Rides(Per City)\")\n",
    "plt.ylabel(\"Average of Fare($)\")\n",
    "\n",
    "plt.show()\n"
   ]
  },
  {
   "cell_type": "markdown",
   "metadata": {},
   "source": [
    "## Total Fares by City Type"
   ]
  },
  {
   "cell_type": "code",
   "execution_count": 91,
   "metadata": {},
   "outputs": [
    {
     "data": {
      "image/png": "[encoded data removed]",
      "text/plain": [
       "<Figure size 432x288 with 1 Axes>"
      ]
     },
     "metadata": {},
     "output_type": "display_data"
    }
   ],
   "source": [
    "#Pie, Fares by City Type\n",
    "fare_total = round(city_rides[\"fare\"].sum(),2)\n",
    "\n",
    "cities_grouped = city_rides.groupby(\"type\")\n",
    "city_fare_total = cities[\"fare\"].sum()\n",
    "\n",
    "# % of fare for type\n",
    "percent_fare_type = [(x/fare_total)*100 for x in city_fare_total]\n",
    "\n",
    "labels = [\"Rural\", \"Suburban\",\"Urban\"]\n",
    "colors = [\"Gold\", \"skyBlue\", \"Coral\"]\n",
    "explode = [0, 0, 0.1]\n",
    "\n",
    "plt.pie(percent_fare_type, explode=explode, labels=labels, colors=colors,\n",
    "        autopct=\"%1.1f%%\", shadow=True, startangle=340)\n",
    "\n",
    "plt.title(\" % Of Total Fares by City Type\")\n",
    "plt.axis(\"equal\")\n",
    "plt.show()"
   ]
  },
  {
   "cell_type": "markdown",
   "metadata": {},
   "source": [
    "## Total Rides by City Type"
   ]
  },
  {
   "cell_type": "code",
   "execution_count": 97,
   "metadata": {},
   "outputs": [
    {
     "data": {
      "image/png": "[encoded data removed]",
      "text/plain": [
       "<Figure size 432x288 with 1 Axes>"
      ]
     },
     "metadata": {},
     "output_type": "display_data"
    }
   ],
   "source": [
    "#count rides for all\n",
    "ride_total= city_rides[\"ride_id\"].count()\n",
    "\n",
    "#fare for city type\n",
    "ride_total_type = cities_grouped[\"ride_id\"].count()\n",
    "\n",
    "#% for city type\n",
    "percent_ride_type = [(x/ride_total)*100 for x in ride_total_type]\n",
    "\n",
    "labels = [\"Rural\", \"Suburban\",\"Urban\"]\n",
    "colors = [\"Gold\", \"skyBlue\", \"Coral\"]\n",
    "explode = [0, 0, 0.1]\n",
    "\n",
    "plt.pie(percent_ride_type, explode=explode, labels=labels, colors=colors,\n",
    "        autopct=\"%1.1f%%\", shadow=True, startangle=340)\n",
    "\n",
    "plt.title(\" % Of Total Rides by City Type\")\n",
    "plt.axis(\"equal\")\n",
    "\n",
    "plt.show()"
   ]
  },
  {
   "cell_type": "markdown",
   "metadata": {},
   "source": [
    "## Total Drivers by City Type"
   ]
  },
  {
   "cell_type": "code",
   "execution_count": 104,
   "metadata": {},
   "outputs": [
    {
     "data": {
      "image/png": "[encoded data removed]",
      "text/plain": [
       "<Figure size 432x288 with 1 Axes>"
      ]
     },
     "metadata": {},
     "output_type": "display_data"
    }
   ],
   "source": [
    "#total divers\n",
    "driver_total = city_rides[\"driver_count\"].sum()\n",
    "\n",
    "# total drivers in diff areas\n",
    "driver_type = cities_grouped[\"driver_count\"].sum()\n",
    "\n",
    "# % of drivers \n",
    "percent_drivers = [(x/driver_total)*100 for x in driver_type]\n",
    "\n",
    "labels = [\"Rural\", \"Suburban\",\"Urban\"]\n",
    "colors = [\"Gold\", \"skyBlue\", \"Coral\"]\n",
    "explode = [0, 0, 0.3]\n",
    "\n",
    "plt.pie(percent_drivers, explode=explode, labels=labels, colors=colors,\n",
    "        autopct=\"%1.1f%%\", shadow=True, startangle=340)\n",
    "\n",
    "plt.title(\"% Of Total Drivers by City Type\")\n",
    "plt.axis(\"equal\")\n",
    "\n",
    "plt.show()"
   ]
  },
  {
   "cell_type": "markdown",
   "metadata": {},
   "source": [
    "Observations:\n",
    "1) As shown in Pyber Ride Sharing Data (2016) there are less rides happening in the Rural areas but the fare is higher.\n",
    "2) Refering back to Pyber Ride Sharing Data (2016) there are frequent rides happening in Urban areas but the fare could be a low as half the fare in a Rural area. \n",
    "3) As a result of higher usage in Urban and Suburban areas, there are is a signifcant difference in the percentage of drivers in the different city types. As showen in % Of Total Drivers by City Type pie chart."
   ]
  }
 ],
 "metadata": {
  "anaconda-cloud": {},
  "kernelspec": {
   "display_name": "Python 3",
   "language": "python",
   "name": "python3"
  },
  "language_info": {
   "codemirror_mode": {
    "name": "ipython",
    "version": 3
   },
   "file_extension": ".py",
   "mimetype": "text/x-python",
   "name": "python",
   "nbconvert_exporter": "python",
   "pygments_lexer": "ipython3",
   "version": "3.7.3"
  }
 },
 "nbformat": 4,
 "nbformat_minor": 2
}
